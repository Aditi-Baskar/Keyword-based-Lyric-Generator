{
 "cells": [
  {
   "cell_type": "code",
   "execution_count": 13,
   "metadata": {},
   "outputs": [],
   "source": [
    "import json\n",
    "import csv\n",
    "import pandas"
   ]
  },
  {
   "cell_type": "code",
   "execution_count": 2,
   "metadata": {},
   "outputs": [],
   "source": [
    "filename = 'song_lyrics.csv'"
   ]
  },
  {
   "cell_type": "code",
   "execution_count": 12,
   "metadata": {},
   "outputs": [],
   "source": [
    "#Creating csv file for lyrics to feed to the BERT classifier\n",
    "f1 = open('ts_data.json')\n",
    "ts_data = json.load(f1)\n",
    "ts_data_csv = []\n",
    "f2 = open('other_data.json')\n",
    "other_data = json.load(f2)\n",
    "other_data_csv = []\n",
    "labels = ['lyrics','label']\n",
    "\n",
    "with open(filename, 'w', newline='') as csvfile:\n",
    "    writer = csv.writer(csvfile)\n",
    "    writer.writerow(labels)\n",
    "    for i in range(len(ts_data['songs'])):\n",
    "        ts_data_csv = []\n",
    "        ts_data_csv.append(ts_data['songs'][i]['lyrics'])\n",
    "        ts_data_csv += [1]\n",
    "        #print(ts_data_csv)\n",
    "        writer.writerow(ts_data_csv)\n",
    "    for i in range(len(other_data['songs'])):\n",
    "        other_data_csv = []\n",
    "        other_data_csv.append(other_data['songs'][i]['lyrics'])\n",
    "        other_data_csv += [0]\n",
    "        #print(other_data_csv)\n",
    "        writer.writerow(other_data_csv)\n",
    "    \n",
    "\n"
   ]
  },
  {
   "cell_type": "code",
   "execution_count": 17,
   "metadata": {},
   "outputs": [
    {
     "name": "stdout",
     "output_type": "stream",
     "text": [
      "                                                lyrics  label\n",
      "0    I walked through the door with you, the air wa...      1\n",
      "1    Vintage tee, brand new phone\\nHigh heels on co...      1\n",
      "2    I can see you standing, honey\\nWith his arms a...      1\n",
      "3    We could leave the Christmas lights up 'til Ja...      1\n",
      "4    I'm doing good, I'm on some new shit\\nBeen say...      1\n",
      "..                                                 ...    ...\n",
      "623  I hit a wall, I never felt so low, so low\\nLik...      0\n",
      "624  Night, night, for a night, for a\\nNight, night...      0\n",
      "625  You'll always be mine\\nSing it to the world\\nA...      0\n",
      "626  Suck my cockiness, lick my persuasion\\nEat my ...      0\n",
      "627  You the one that I dream about all day\\nYou th...      0\n",
      "\n",
      "[628 rows x 2 columns]\n"
     ]
    }
   ],
   "source": [
    "data = pandas.read_csv('song_lyrics.csv')\n",
    "lyrics = data['lyrics']\n",
    "labels = data['label']\n",
    "print(data)\n"
   ]
  },
  {
   "cell_type": "code",
   "execution_count": null,
   "metadata": {},
   "outputs": [],
   "source": []
  }
 ],
 "metadata": {
  "kernelspec": {
   "display_name": "Python 3.10.8 64-bit",
   "language": "python",
   "name": "python3"
  },
  "language_info": {
   "codemirror_mode": {
    "name": "ipython",
    "version": 3
   },
   "file_extension": ".py",
   "mimetype": "text/x-python",
   "name": "python",
   "nbconvert_exporter": "python",
   "pygments_lexer": "ipython3",
   "version": "3.10.8"
  },
  "orig_nbformat": 4,
  "vscode": {
   "interpreter": {
    "hash": "b0fa6594d8f4cbf19f97940f81e996739fb7646882a419484c72d19e05852a7e"
   }
  }
 },
 "nbformat": 4,
 "nbformat_minor": 2
}
