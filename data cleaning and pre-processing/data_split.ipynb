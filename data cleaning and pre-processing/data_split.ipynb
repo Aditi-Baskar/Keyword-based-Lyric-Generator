{
  "nbformat": 4,
  "nbformat_minor": 0,
  "metadata": {
    "colab": {
      "provenance": []
    },
    "kernelspec": {
      "name": "python3",
      "display_name": "Python 3"
    },
    "language_info": {
      "name": "python"
    }
  },
  "cells": [
    {
      "cell_type": "code",
      "execution_count": 2,
      "metadata": {
        "id": "hdxSju5atPEy"
      },
      "outputs": [],
      "source": [
        "import json\n",
        "\n",
        "# Opening JSON file\n",
        "f = open('/content/ts_data.json')\n",
        "\n",
        "# returns JSON object as\n",
        "# a dictionary\n",
        "data = json.load(f)"
      ]
    },
    {
      "cell_type": "code",
      "source": [
        "#Removing duplicates\n",
        "ct = 0\n",
        "unique_songs = dict()\n",
        "for i in data['songs']:\n",
        "    if i['title'].lower() not in unique_songs.keys():\n",
        "        unique_songs[i['title'].lower()] = dict()\n",
        "        unique_songs[i['title'].lower()]['lyrics'] = i['lyrics']\n",
        "        unique_songs[i['title'].lower()]['keywords'] = ''\n",
        "        ct = ct + 1"
      ],
      "metadata": {
        "id": "M2RCYBsYvuiE"
      },
      "execution_count": 3,
      "outputs": []
    },
    {
      "cell_type": "code",
      "source": [
        "#Removing non-lyric lines\n",
        "for title, l in unique_songs.items():\n",
        "    l1 = l['lyrics'].replace('See Taylor Swift LiveGet tickets as low as $650You might also like\\n', \"\")\n",
        "    l2 = l1.replace('Embed\\n', \"\")\n",
        "    l2 = l2[:-8]\n",
        "    unique_songs[title]['lyrics'] = l2"
      ],
      "metadata": {
        "id": "avTQJTpgv3sD"
      },
      "execution_count": 4,
      "outputs": []
    },
    {
      "cell_type": "code",
      "source": [
        "s1 = dict(list(unique_songs.items())[0:160])\n",
        "s2 = dict(list(unique_songs.items())[160:320])\n",
        "\n",
        "j1 = json.dumps(s1, indent=3)\n",
        "with open(\"songs_pt1.json\", \"w\") as outfile:\n",
        "    outfile.write(j1)\n",
        "\n",
        "j2 = json.dumps(s2, indent=3)\n",
        "with open(\"songs_pt2.json\", \"w\") as outfile:\n",
        "    outfile.write(j2)\n",
        "\n",
        "\n",
        "# Closing file\n",
        "f.close()"
      ],
      "metadata": {
        "id": "bRkelma2wB13"
      },
      "execution_count": 5,
      "outputs": []
    },
    {
      "cell_type": "code",
      "source": [
        "temp = dict(list(unique_songs.items())[0:40])\n",
        "\n",
        "temp_json = json.dumps(temp, indent=3)\n",
        "with open(\"temp.json\", \"w\") as outfile:\n",
        "    outfile.write(temp_json)"
      ],
      "metadata": {
        "id": "BEOMK7VZ0P1F"
      },
      "execution_count": 6,
      "outputs": []
    }
  ]
}