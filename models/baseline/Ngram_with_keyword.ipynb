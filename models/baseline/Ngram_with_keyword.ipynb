{
  "nbformat": 4,
  "nbformat_minor": 0,
  "metadata": {
    "colab": {
      "provenance": []
    },
    "kernelspec": {
      "name": "python3",
      "display_name": "Python 3"
    },
    "language_info": {
      "name": "python"
    }
  },
  "cells": [
    {
      "cell_type": "code",
      "execution_count": 6,
      "metadata": {
        "colab": {
          "base_uri": "https://localhost:8080/"
        },
        "id": "zwM2Gc24kNOE",
        "outputId": "249d341e-6195-4bd4-cfe6-7bed7bdf1d13"
      },
      "outputs": [
        {
          "output_type": "stream",
          "name": "stderr",
          "text": [
            "[nltk_data] Downloading package punkt to /root/nltk_data...\n",
            "[nltk_data]   Package punkt is already up-to-date!\n",
            "[nltk_data] Downloading package brown to /root/nltk_data...\n",
            "[nltk_data]   Package brown is already up-to-date!\n"
          ]
        }
      ],
      "source": [
        "import json\n",
        "import nltk\n",
        "nltk.download('punkt')\n",
        "nltk.download('brown')\n",
        "from nltk.tokenize import word_tokenize,sent_tokenize\n",
        "from nltk.lm.preprocessing import padded_everygram_pipeline\n",
        "from nltk.lm import MLE\n",
        "from nltk.util import everygrams\n"
      ]
    },
    {
      "cell_type": "code",
      "source": [
        "# Creating a list of all the lyrics\n",
        "f = open('final_dataset.json')\n",
        "data = json.load(f)\n",
        "# print(data)\n",
        "# print(type(data))\n",
        "t=0\n",
        "all_lyrics = []\n",
        "for i,j in data.items():\n",
        "  new_lyrics = j['keywords'] + \" \" + j['lyrics']\n",
        "  all_lyrics.append(new_lyrics)\n"
      ],
      "metadata": {
        "id": "1gn3gK8wpLY6"
      },
      "execution_count": 7,
      "outputs": []
    },
    {
      "cell_type": "code",
      "source": [
        "# print(all_lyrics)"
      ],
      "metadata": {
        "id": "IOJ3sT9JRXFq"
      },
      "execution_count": 8,
      "outputs": []
    },
    {
      "cell_type": "markdown",
      "source": [],
      "metadata": {
        "id": "BR50sO_-u_3F"
      }
    },
    {
      "cell_type": "code",
      "source": [
        "new_vocab = set()\n",
        "all_text = []\n",
        "for i in all_lyrics[0:262]:\n",
        "  all_tokens = []\n",
        "  for sentence in i.split('\\n'):\n",
        "    tokens = word_tokenize(sentence)\n",
        "    tokens = [word for word in tokens if word.isalpha()]\n",
        "    tokens.append('\\n')\n",
        "    new_vocab.update(tokens)\n",
        "    all_tokens.extend(tokens)\n",
        "  all_text.append(all_tokens)\n",
        "vocab2 = list(new_vocab)\n",
        "new_ngrams = (everygrams(i,max_len=6) for i in all_text)\n",
        "print(len(all_text))"
      ],
      "metadata": {
        "id": "aj1UMvPsCzbD",
        "colab": {
          "base_uri": "https://localhost:8080/"
        },
        "outputId": "80c4fa9f-e5be-4238-9b07-f0edebe402ec"
      },
      "execution_count": 9,
      "outputs": [
        {
          "output_type": "stream",
          "name": "stdout",
          "text": [
            "262\n"
          ]
        }
      ]
    },
    {
      "cell_type": "code",
      "source": [
        "# To train the model for a value n\n",
        "def train_model(n):\n",
        "  new_ngrams = (everygrams(i,max_len=n) for i in all_text)\n",
        "  lm1 = MLE(order=n)\n",
        "  lm1.fit(new_ngrams,vocab2)\n",
        "  return lm1\n"
      ],
      "metadata": {
        "id": "Yy7SkNQhF3Ko"
      },
      "execution_count": 10,
      "outputs": []
    },
    {
      "cell_type": "code",
      "source": [
        "model = train_model(6)\n",
        "# To generate lyric give a pretext and just call the function generate_lyric\n",
        "pretext = ['let','me','love','you']\n",
        "def generate_lyric(pretext):\n",
        "  generated_lyrics = model.generate(num_words=100,text_seed=pretext,random_seed=2)\n",
        "  temp_string = ''\n",
        "  for word in pretext:\n",
        "    temp_string += word + ' '\n",
        "  for word in generated_lyrics:\n",
        "    if(word!='\\n'):\n",
        "      temp_string += word + ' '\n",
        "    else:\n",
        "      temp_string += word\n",
        "  print(temp_string)\n",
        "  \n",
        "generate_lyric(pretext)\n"
      ],
      "metadata": {
        "colab": {
          "base_uri": "https://localhost:8080/"
        },
        "id": "y4HdUcNUHu7L",
        "outputId": "729e590a-bf82-4095-b879-2e9ea6f2e9a7"
      },
      "execution_count": 11,
      "outputs": [
        {
          "output_type": "stream",
          "name": "stdout",
          "text": [
            "let me love you let me want you \n",
            "You just see right through me \n",
            "But if you only knew me \n",
            "We could be a beautiful miracle unbelievable \n",
            "Instead of just invisible \n",
            "\n",
            "Oh yeah oh \n",
            "\n",
            "There a fire inside of you \n",
            "That ca help but shine through \n",
            "She never gon na see the light \n",
            "No matter what you say \n",
            "I still ca believe that you would walk away \n",
            "It do make sense to me but \n",
            "\n",
            "Why would you wan na break \n",
            "A perfectly good heart \n",
            "Why would you \n"
          ]
        }
      ]
    },
    {
      "cell_type": "code",
      "source": [
        "generate_lyric(['what','are','you','waiting','for'])"
      ],
      "metadata": {
        "id": "0bBy57MeKXpQ",
        "colab": {
          "base_uri": "https://localhost:8080/"
        },
        "outputId": "8e1e373c-ff0b-44e9-8622-244f898ada4a"
      },
      "execution_count": 12,
      "outputs": [
        {
          "output_type": "stream",
          "name": "stdout",
          "text": [
            "what are you waiting for you to be waiting below \n",
            "Devils roll the dice angels roll their eyes \n",
            "What does kill me makes me want you more \n",
            "\n",
            "And it new the shape of your body \n",
            "It blue the feeling I got \n",
            "And it ooh \n",
            "It a cruel summer \n",
            "It cool that what I tell \n",
            "No rules in breakable heaven \n",
            "But ooh \n",
            "It a cruel summer with you \n",
            "\n",
            "I drunk in the back of the taxi \n",
            "I can tell that it gon na be a long road \n",
            "I be there if \n"
          ]
        }
      ]
    },
    {
      "cell_type": "code",
      "source": [],
      "metadata": {
        "id": "hqxJwTwER4oD"
      },
      "execution_count": 12,
      "outputs": []
    }
  ]
}