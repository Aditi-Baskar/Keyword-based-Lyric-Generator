{
  "nbformat": 4,
  "nbformat_minor": 0,
  "metadata": {
    "colab": {
      "provenance": []
    },
    "kernelspec": {
      "name": "python3",
      "display_name": "Python 3"
    },
    "language_info": {
      "name": "python"
    }
  },
  "cells": [
    {
      "cell_type": "code",
      "execution_count": 12,
      "metadata": {
        "colab": {
          "base_uri": "https://localhost:8080/"
        },
        "id": "zwM2Gc24kNOE",
        "outputId": "ced43585-ce33-4934-9c99-3d75952e669d"
      },
      "outputs": [
        {
          "output_type": "stream",
          "name": "stderr",
          "text": [
            "[nltk_data] Downloading package punkt to /root/nltk_data...\n",
            "[nltk_data]   Package punkt is already up-to-date!\n",
            "[nltk_data] Downloading package brown to /root/nltk_data...\n",
            "[nltk_data]   Package brown is already up-to-date!\n"
          ]
        }
      ],
      "source": [
        "import json\n",
        "import nltk\n",
        "nltk.download('punkt')\n",
        "nltk.download('brown')\n",
        "from nltk.tokenize import word_tokenize,sent_tokenize\n",
        "from nltk.lm.preprocessing import padded_everygram_pipeline\n",
        "from nltk.lm import MLE\n",
        "from nltk.util import everygrams\n"
      ]
    },
    {
      "cell_type": "code",
      "source": [
        "# Creating a list of all the lyrics\n",
        "f = open('ts_data.json')\n",
        "data = json.load(f)\n",
        "t=0\n",
        "all_lyrics = []\n",
        "for i in data['songs']:\n",
        "  all_lyrics.append(i['lyrics'])"
      ],
      "metadata": {
        "id": "1gn3gK8wpLY6"
      },
      "execution_count": 13,
      "outputs": []
    },
    {
      "cell_type": "code",
      "source": [
        "# print(all_lyrics)"
      ],
      "metadata": {
        "id": "i511BwCvRTSN"
      },
      "execution_count": 14,
      "outputs": []
    },
    {
      "cell_type": "markdown",
      "source": [],
      "metadata": {
        "id": "BR50sO_-u_3F"
      }
    },
    {
      "cell_type": "code",
      "source": [
        "# Creating a list of all the sentences of the entire lyrics\n",
        "sentences = []\n",
        "for i in all_lyrics:\n",
        "  sentences.extend(i.split('\\n'))"
      ],
      "metadata": {
        "id": "qWilL2_i367H"
      },
      "execution_count": 15,
      "outputs": []
    },
    {
      "cell_type": "code",
      "source": [
        "text = []\n",
        "vocab = set()\n",
        "for sentence in sentences:\n",
        "  tokens = word_tokenize(sentence.lower())\n",
        "  tokens = [word for word in tokens if word.isalpha()]\n",
        "  text.append(tokens)\n",
        "  vocab.update(tokens)\n",
        "vocab1 = list(vocab)"
      ],
      "metadata": {
        "id": "l92flCEX6VXM"
      },
      "execution_count": 16,
      "outputs": []
    },
    {
      "cell_type": "code",
      "source": [
        "all_ngrams = (everygrams(i,max_len=6) for i in text)"
      ],
      "metadata": {
        "id": "LZkVD-N3jfnN"
      },
      "execution_count": 17,
      "outputs": []
    },
    {
      "cell_type": "code",
      "source": [
        "lm = MLE(order=6)\n",
        "#train, vocab = padded_everygram_pipeline(order=4,text=text)\n",
        "lm.fit(all_ngrams,vocab1)"
      ],
      "metadata": {
        "id": "FCGhMWsm70ii"
      },
      "execution_count": 18,
      "outputs": []
    },
    {
      "cell_type": "code",
      "source": [
        "lm.generate(num_words=30,text_seed=['let','me','love','you'])"
      ],
      "metadata": {
        "colab": {
          "base_uri": "https://localhost:8080/"
        },
        "id": "LYv54JCj-PBs",
        "outputId": "24e14aab-8270-4a4a-e368-e89fb1d675c2"
      },
      "execution_count": 19,
      "outputs": [
        {
          "output_type": "execute_result",
          "data": {
            "text/plain": [
              "['let',\n",
              " 'me',\n",
              " 'want',\n",
              " 'you',\n",
              " 'more',\n",
              " 'than',\n",
              " 'i',\n",
              " 'know',\n",
              " 'how',\n",
              " 'to',\n",
              " 'mention',\n",
              " 'him',\n",
              " 'was',\n",
              " 'like',\n",
              " 'trying',\n",
              " 'to',\n",
              " 'solve',\n",
              " 'a',\n",
              " 'crossword',\n",
              " 'and',\n",
              " 'realizing',\n",
              " 'there',\n",
              " 'no',\n",
              " 'right',\n",
              " 'answer',\n",
              " 'when',\n",
              " 'i',\n",
              " 'clap',\n",
              " 'i',\n",
              " 'gon']"
            ]
          },
          "metadata": {},
          "execution_count": 19
        }
      ]
    },
    {
      "cell_type": "code",
      "source": [
        "f1 = open('trial.txt','w')\n",
        "print(all_lyrics[0][0:80])\n",
        "s = all_lyrics[0][0:80]\n",
        "f1.write(s)\n",
        "all_lyrics[0][0:80]"
      ],
      "metadata": {
        "colab": {
          "base_uri": "https://localhost:8080/",
          "height": 69
        },
        "id": "vVJ0s36iCZiC",
        "outputId": "e507be15-c0e1-48b0-c481-cb4e090d0a3c"
      },
      "execution_count": 20,
      "outputs": [
        {
          "output_type": "stream",
          "name": "stdout",
          "text": [
            "I walked through the door with you, the air was cold\n",
            "But somethin' 'bout it felt\n"
          ]
        },
        {
          "output_type": "execute_result",
          "data": {
            "text/plain": [
              "\"I walked through the door with you, the air was cold\\nBut somethin' 'bout it felt\""
            ],
            "application/vnd.google.colaboratory.intrinsic+json": {
              "type": "string"
            }
          },
          "metadata": {},
          "execution_count": 20
        }
      ]
    },
    {
      "cell_type": "code",
      "source": [
        "new_vocab = set()\n",
        "all_text = []\n",
        "for i in all_lyrics[0:262]:\n",
        "  all_tokens = []\n",
        "  for sentence in i.split('\\n'):\n",
        "    tokens = word_tokenize(sentence)\n",
        "    tokens = [word for word in tokens if word.isalpha()]\n",
        "    tokens.append('\\n')\n",
        "    new_vocab.update(tokens)\n",
        "    all_tokens.extend(tokens)\n",
        "  all_text.append(all_tokens)\n",
        "vocab2 = list(new_vocab)\n",
        "new_ngrams = (everygrams(i,max_len=6) for i in all_text)\n",
        "print(len(all_text))"
      ],
      "metadata": {
        "id": "aj1UMvPsCzbD",
        "colab": {
          "base_uri": "https://localhost:8080/"
        },
        "outputId": "bfa02b8e-df7e-4004-b8ce-6822a727d2c5"
      },
      "execution_count": 21,
      "outputs": [
        {
          "output_type": "stream",
          "name": "stdout",
          "text": [
            "262\n"
          ]
        }
      ]
    },
    {
      "cell_type": "code",
      "source": [
        "# To train the model for a value n\n",
        "def train_model(n):\n",
        "  new_ngrams = (everygrams(i,max_len=n) for i in all_text)\n",
        "  lm1 = MLE(order=n)\n",
        "  lm1.fit(new_ngrams,vocab2)\n",
        "  return lm1\n"
      ],
      "metadata": {
        "id": "Yy7SkNQhF3Ko"
      },
      "execution_count": 22,
      "outputs": []
    },
    {
      "cell_type": "code",
      "source": [
        "model = train_model(6)\n",
        "# To generate lyric give a pretext and just call the function generate_lyric\n",
        "pretext = ['let','me','love','you']\n",
        "def generate_lyric(pretext):\n",
        "  generated_lyrics = model.generate(num_words=100,text_seed=pretext,random_seed=2)\n",
        "  temp_string = ''\n",
        "  for word in pretext:\n",
        "    temp_string += word + ' '\n",
        "  for word in generated_lyrics:\n",
        "    if(word!='\\n'):\n",
        "      temp_string += word + ' '\n",
        "    else:\n",
        "      temp_string += word\n",
        "  print(temp_string)\n",
        "  \n",
        "generate_lyric(pretext)\n"
      ],
      "metadata": {
        "colab": {
          "base_uri": "https://localhost:8080/"
        },
        "id": "y4HdUcNUHu7L",
        "outputId": "40e3e99f-2ef8-4943-ed27-c5994b95266f"
      },
      "execution_count": 23,
      "outputs": [
        {
          "output_type": "stream",
          "name": "stdout",
          "text": [
            "let me love you let me want you \n",
            "You just see right through me \n",
            "But if you only knew me \n",
            "We could be a beautiful miracle unbelievable \n",
            "Instead of just invisible \n",
            "\n",
            "Oh yeah oh \n",
            "\n",
            "There a fire inside of you \n",
            "That ca help but shine through \n",
            "She never gon na see the light \n",
            "No matter what you say \n",
            "I still ca believe that you would walk away \n",
            "It do make sense to me but \n",
            "\n",
            "Why would you wan na break \n",
            "A perfectly good heart \n",
            "Why would you \n"
          ]
        }
      ]
    },
    {
      "cell_type": "code",
      "source": [
        "generate_lyric(['what','are','you','waiting','for'])"
      ],
      "metadata": {
        "id": "0bBy57MeKXpQ",
        "colab": {
          "base_uri": "https://localhost:8080/"
        },
        "outputId": "c8155d6f-dde0-4516-eb5b-b2fadf4fcb0b"
      },
      "execution_count": 24,
      "outputs": [
        {
          "output_type": "stream",
          "name": "stdout",
          "text": [
            "what are you waiting for you to be waiting below \n",
            "Devils roll the dice angels roll their eyes \n",
            "What does kill me makes me want you more \n",
            "\n",
            "And it new the shape of your body \n",
            "It blue the feeling I got \n",
            "And it ooh \n",
            "It a cruel summer \n",
            "It cool that what I tell \n",
            "No rules in breakable heaven \n",
            "But ooh \n",
            "It a cruel summer with you \n",
            "\n",
            "I drunk in the back of the taxi \n",
            "I can tell that it gon na be a long road \n",
            "I be there if \n"
          ]
        }
      ]
    },
    {
      "cell_type": "code",
      "source": [],
      "metadata": {
        "id": "7sPnuEZtR_e_"
      },
      "execution_count": 24,
      "outputs": []
    }
  ]
}