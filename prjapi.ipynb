{
 "cells": [
  {
   "cell_type": "code",
   "execution_count": 28,
   "metadata": {},
   "outputs": [],
   "source": [
    "# client id 3xrRmjuKlBm3fv80F5XhC2mHCt5_B_WV0W7fdwsF1Hf-cWu4dbDqPeI1qN_rm5Al\n",
    "# access token YIHKEmRaW8tuw7qpsPhPf3_BZCEIp9N53yr2BsNOWi_qvjCA-WVskFIK7hL-tW6Q"
   ]
  },
  {
   "cell_type": "code",
   "execution_count": 29,
   "metadata": {},
   "outputs": [],
   "source": [
    "# import requests\n",
    "# import json\n",
    "# import time\n",
    "\n",
    "# # Set up API access\n",
    "# GENIUS_API_TOKEN = \"YIHKEmRaW8tuw7qpsPhPf3_BZCEIp9N53yr2BsNOWi_qvjCA-WVskFIK7hL-tW6Q\"\n",
    "# BASE_URL = \"https://api.genius.com\"\n",
    "# headers = {'Authorization': 'Bearer ' + GENIUS_API_TOKEN}\n",
    "\n",
    "# # Define artist to search for\n",
    "# artist_name = \"Taylor Swift\"\n",
    "\n",
    "# # Search for artist\n",
    "# search_url = BASE_URL + \"/search\"\n",
    "# params = {'q': artist_name}\n",
    "# response = requests.get(search_url, params=params, headers=headers)\n",
    "# response_json = json.loads(response.text)\n",
    "# #print(response_json)\n",
    "\n",
    "# # Get artist ID from search results\n",
    "# artist_id = None\n",
    "# for hit in response_json['response']['hits']:\n",
    "#     if hit['result']['primary_artist']['name'] == artist_name:\n",
    "#         artist_id = hit['result']['primary_artist']['id']\n",
    "#         break\n",
    "\n",
    "# # Get all songs for the artist\n",
    "# if artist_id:\n",
    "#     page = 1\n",
    "#     all_songs = []\n",
    "#     while True:\n",
    "#         songs_url = BASE_URL + \"/artists/{}/songs\".format(artist_id)\n",
    "#         params = {'page': page}\n",
    "#         response = requests.get(songs_url, params=params, headers=headers)\n",
    "#         response_json = json.loads(response.text)\n",
    "\n",
    "#         if len(response_json['response']['songs']) == 0:\n",
    "#             break\n",
    "\n",
    "#         all_songs += response_json['response']['songs']\n",
    "#         page += 1\n",
    "#         time.sleep(1) # Sleep for 1 second to avoid hitting API rate limit\n",
    "#     print('all songs')\n",
    "#     # Get lyrics for all songs\n",
    "#     all_lyrics = []\n",
    "#     for song in all_songs:\n",
    "#         song_url = BASE_URL + \"/songs/{}\".format(song['id'])\n",
    "#         response = requests.get(song_url, headers=headers)\n",
    "#         response_json = json.loads(response.text)\n",
    "#         #print(response_json)\n",
    "#         if 'lyrics' in response_json['response']['song']:\n",
    "#             all_lyrics.append(response_json['response']['song']['lyrics'])\n",
    "#         else:\n",
    "#             print(\"Lyrics not available for song with ID {}\".format(song['id']))\n",
    "            \n",
    "\n",
    "#     # Print lyrics for all songs\n",
    "#     for lyrics in all_lyrics:\n",
    "#         print(lyrics)\n",
    "# else:\n",
    "#     print(\"Artist not found.\")\n",
    "\n"
   ]
  },
  {
   "cell_type": "code",
   "execution_count": 30,
   "metadata": {},
   "outputs": [
    {
     "name": "stdout",
     "output_type": "stream",
     "text": [
      "Requirement already satisfied: lyricsgenius in /opt/homebrew/lib/python3.10/site-packages (3.0.1)\n",
      "Requirement already satisfied: beautifulsoup4>=4.6.0 in /Users/nielparekh/Library/Python/3.10/lib/python/site-packages (from lyricsgenius) (4.11.1)\n",
      "Requirement already satisfied: requests>=2.20.0 in /opt/homebrew/lib/python3.10/site-packages (from lyricsgenius) (2.28.1)\n",
      "Requirement already satisfied: soupsieve>1.2 in /Users/nielparekh/Library/Python/3.10/lib/python/site-packages (from beautifulsoup4>=4.6.0->lyricsgenius) (2.3.2.post1)\n",
      "Requirement already satisfied: charset-normalizer<3,>=2 in /opt/homebrew/lib/python3.10/site-packages (from requests>=2.20.0->lyricsgenius) (2.1.1)\n",
      "Requirement already satisfied: idna<4,>=2.5 in /Users/nielparekh/Library/Python/3.10/lib/python/site-packages (from requests>=2.20.0->lyricsgenius) (3.4)\n",
      "Requirement already satisfied: urllib3<1.27,>=1.21.1 in /opt/homebrew/lib/python3.10/site-packages (from requests>=2.20.0->lyricsgenius) (1.26.12)\n",
      "Requirement already satisfied: certifi>=2017.4.17 in /opt/homebrew/lib/python3.10/site-packages (from requests>=2.20.0->lyricsgenius) (2022.9.24)\n",
      "\n",
      "\u001b[1m[\u001b[0m\u001b[34;49mnotice\u001b[0m\u001b[1;39;49m]\u001b[0m\u001b[39;49m A new release of pip available: \u001b[0m\u001b[31;49m22.3.1\u001b[0m\u001b[39;49m -> \u001b[0m\u001b[32;49m23.1.1\u001b[0m\n",
      "\u001b[1m[\u001b[0m\u001b[34;49mnotice\u001b[0m\u001b[1;39;49m]\u001b[0m\u001b[39;49m To update, run: \u001b[0m\u001b[32;49mpython3.10 -m pip install --upgrade pip\u001b[0m\n"
     ]
    }
   ],
   "source": [
    "!pip3 install lyricsgenius\n",
    "\n",
    "import lyricsgenius as lg"
   ]
  },
  {
   "cell_type": "code",
   "execution_count": 31,
   "metadata": {},
   "outputs": [],
   "source": [
    "file = open(\"auto_.txt\", \"w\")"
   ]
  },
  {
   "cell_type": "code",
   "execution_count": 32,
   "metadata": {},
   "outputs": [],
   "source": [
    "genius = lg.Genius('YIHKEmRaW8tuw7qpsPhPf3_BZCEIp9N53yr2BsNOWi_qvjCA-WVskFIK7hL-tW6Q', skip_non_songs=True, excluded_terms=[\"(Remix)\", \"(Live)\"], remove_section_headers=True)"
   ]
  },
  {
   "cell_type": "code",
   "execution_count": 33,
   "metadata": {},
   "outputs": [],
   "source": [
    "def get_lyrics(arr, k):\n",
    "    c = 0\n",
    "    for name in arr:\n",
    "        try:\n",
    "            songs = (genius.search_artist(name, max_songs=k, sort='popularity')).songs\n",
    "            s = [song.lyrics for song in songs]\n",
    "            file.write(\"\\n \\n   <|endoftext|>   \\n \\n\".join(s))\n",
    "            c += 1\n",
    "            print(f\"Songs grabbed:{len(s)}\")\n",
    "        except:\n",
    "            print(f\"some exception at {name}: {c}\")"
   ]
  },
  {
   "cell_type": "code",
   "execution_count": 34,
   "metadata": {},
   "outputs": [
    {
     "name": "stdout",
     "output_type": "stream",
     "text": [
      "Searching for songs by Taylor Swift...\n",
      "\n",
      "Song 1: \"All Too Well (10 Minute Version) (Taylor’s Version) [From the Vault]\"\n",
      "\"All Too Well (10 Minute Version) (Taylor’s Version) [Live Acoustic]\" is not valid. Skipping.\n",
      "Song 2: \"​cardigan\"\n",
      "Song 3: \"​exile\"\n",
      "Song 4: \"Lover\"\n",
      "Song 5: \"​the 1\"\n",
      "Song 6: \"​august\"\n",
      "Song 7: \"Look What You Made Me Do\"\n",
      "Song 8: \"​betty\"\n",
      "Song 9: \"​champagne problems\"\n",
      "Song 10: \"Blank Space\"\n",
      "\n",
      "Reached user-specified song limit (10).\n",
      "Done. Found 10 songs.\n",
      "Songs grabbed:10\n"
     ]
    }
   ],
   "source": [
    "artists = ['Taylor Swift']\n",
    "get_lyrics(artists, 100)"
   ]
  },
  {
   "cell_type": "code",
   "execution_count": null,
   "metadata": {},
   "outputs": [],
   "source": []
  }
 ],
 "metadata": {
  "kernelspec": {
   "display_name": "Python 3.10.8 64-bit",
   "language": "python",
   "name": "python3"
  },
  "language_info": {
   "codemirror_mode": {
    "name": "ipython",
    "version": 3
   },
   "file_extension": ".py",
   "mimetype": "text/x-python",
   "name": "python",
   "nbconvert_exporter": "python",
   "pygments_lexer": "ipython3",
   "version": "3.10.8"
  },
  "orig_nbformat": 4,
  "vscode": {
   "interpreter": {
    "hash": "b0fa6594d8f4cbf19f97940f81e996739fb7646882a419484c72d19e05852a7e"
   }
  }
 },
 "nbformat": 4,
 "nbformat_minor": 2
}
