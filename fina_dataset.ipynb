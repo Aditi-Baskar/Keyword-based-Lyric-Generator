{
  "nbformat": 4,
  "nbformat_minor": 0,
  "metadata": {
    "colab": {
      "provenance": []
    },
    "kernelspec": {
      "name": "python3",
      "display_name": "Python 3"
    },
    "language_info": {
      "name": "python"
    }
  },
  "cells": [
    {
      "cell_type": "code",
      "execution_count": 1,
      "metadata": {
        "id": "EXKqjcO9qtVt"
      },
      "outputs": [],
      "source": [
        "import json"
      ]
    },
    {
      "cell_type": "code",
      "source": [
        "f1 = open('/content/json_songspt1_keywords.json') #change this path\n",
        "songs1 = json.load(f1)\n",
        "\n",
        "f2 = open('/content/json_songspt2_keywords.json') #change this path\n",
        "songs2 = json.load(f2)"
      ],
      "metadata": {
        "id": "I_LtqYJ-q9qN"
      },
      "execution_count": 3,
      "outputs": []
    },
    {
      "cell_type": "code",
      "source": [
        "def preprocess(s):\n",
        "  for title, l in s.items():\n",
        "    k = l['keywords'].replace(\"A: \", \"\")\n",
        "    s[title]['keywords'] = k.lower()\n",
        "  \n",
        "  return s\n"
      ],
      "metadata": {
        "id": "4H5BaAacrJfr"
      },
      "execution_count": 6,
      "outputs": []
    },
    {
      "cell_type": "code",
      "source": [
        "final_songs1 = preprocess(songs1)\n",
        "final_songs2 = preprocess(songs2)\n",
        "\n",
        "final_songs = final_songs1 | final_songs2"
      ],
      "metadata": {
        "id": "V_fTCzUhsD2c"
      },
      "execution_count": 14,
      "outputs": []
    },
    {
      "cell_type": "code",
      "source": [
        "json_final_dataset = json.dumps(final_songs, indent=3)\n",
        "with open(\"final_dataset.json\", \"w\") as outfile:\n",
        "    outfile.write(json_final_dataset)"
      ],
      "metadata": {
        "id": "gC58vYQ4sLTy"
      },
      "execution_count": 18,
      "outputs": []
    }
  ]
}